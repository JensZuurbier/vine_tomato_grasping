{
 "cells": [
  {
   "cell_type": "code",
   "execution_count": 13,
   "id": "6ed08623",
   "metadata": {},
   "outputs": [],
   "source": [
    "import os\n",
    "from PIL import Image, ImageOps\n",
    "from pillow_heif import register_heif_opener\n",
    "import cv2\n",
    "\n",
    "import xml.etree.ElementTree as ET\n",
    "from xml.etree.ElementTree import parse, Element, SubElement, ElementTree"
   ]
  },
  {
   "cell_type": "markdown",
   "id": "ea6a8d30",
   "metadata": {},
   "source": [
    "### Rename images"
   ]
  },
  {
   "cell_type": "code",
   "execution_count": 19,
   "id": "1437de63-87d5-4c01-bb14-8da7458c30e4",
   "metadata": {},
   "outputs": [],
   "source": [
    "### Rename images to names with numbers only\n",
    "images = os.listdir('dataset_blue/images_png')\n",
    "\n",
    "for idx, image in enumerate(images):\n",
    "    src = ('dataset_blue/images_png/' + image)\n",
    "    dst = ('dataset_blue/images/blue_' + str(idx) + '.png')\n",
    "    os.rename(src, dst)"
   ]
  },
  {
   "cell_type": "markdown",
   "id": "511cf4ca-b716-4217-9d7c-86e3b56b25c5",
   "metadata": {},
   "source": [
    "### Convert to png\n"
   ]
  },
  {
   "cell_type": "code",
   "execution_count": 9,
   "id": "adaeae08-9eff-4039-b912-cc5252b21768",
   "metadata": {},
   "outputs": [],
   "source": [
    "path = os.getcwd()\n",
    "images_source = os.path.join(path,'dataset_grey/images_heic/')\n",
    "images_dest = os.path.join(path,'dataset_grey/images_png/')"
   ]
  },
  {
   "cell_type": "markdown",
   "id": "b51fd7f3",
   "metadata": {},
   "source": [
    "#### HEIC > PNG (and resize)"
   ]
  },
  {
   "cell_type": "code",
   "execution_count": 12,
   "id": "98b66405",
   "metadata": {},
   "outputs": [],
   "source": [
    "images = os.listdir('dataset_grey/images_heic')\n",
    "\n",
    "register_heif_opener()\n",
    "\n",
    "for idx, image in enumerate(images):\n",
    "\n",
    "    im1 = Image.open(images_source + image)\n",
    "    basewidth = 1536\n",
    "    wpercent = (basewidth/float(im1.size[0]))\n",
    "    hsize = int((float(im1.size[1])*float(wpercent)))\n",
    "    im1 = im1.resize((basewidth,hsize), Image.ANTIALIAS)\n",
    "    im1.save(images_dest + 'grey_' + str(idx) + '.png')"
   ]
  },
  {
   "cell_type": "markdown",
   "id": "247a1676",
   "metadata": {},
   "source": [
    "#### JPG > PNG"
   ]
  },
  {
   "cell_type": "code",
   "execution_count": 2,
   "id": "9e2119e1-0ba6-436e-9d3b-40fb22b122df",
   "metadata": {},
   "outputs": [],
   "source": [
    "images = os.listdir('dataset_blue/images_jpg')\n",
    "\n",
    "for idx, image in enumerate(images):\n",
    "\n",
    "    im1 = Image.open(images_source + image)\n",
    "    im1.save(images_dest + 'blue_' + str(idx) + '.png')"
   ]
  },
  {
   "cell_type": "markdown",
   "id": "9e580c2e",
   "metadata": {},
   "source": [
    "## Resize imgs"
   ]
  },
  {
   "cell_type": "code",
   "execution_count": 3,
   "id": "d01d4e5e",
   "metadata": {},
   "outputs": [],
   "source": [
    "path = os.getcwd()\n",
    "images_source = os.path.join(path,'dataset_other/images_png/')\n",
    "images_dest = os.path.join(path,'dataset_other/images/')"
   ]
  },
  {
   "cell_type": "code",
   "execution_count": 8,
   "id": "0a4990a0",
   "metadata": {},
   "outputs": [],
   "source": [
    "images = os.listdir('dataset_other/images_png')\n",
    "\n",
    "desired_size = 510\n",
    "\n",
    "for idx, image in enumerate(images):\n",
    "\n",
    "    im = Image.open(images_source + image)\n",
    "    old_size = im.size  # old_size[0] is in (width, height) format\n",
    "    ratio = float(desired_size)/max(old_size)\n",
    "    new_size = tuple([int(x*ratio) for x in old_size])\n",
    "\n",
    "    im = im.resize(new_size, Image.ANTIALIAS)\n",
    "    # create a new image and paste the resized on it\n",
    "\n",
    "    new_im = Image.new(\"RGB\", (desired_size, desired_size))\n",
    "    new_im.paste(im, ((desired_size-new_size[0])//2,\n",
    "                        (desired_size-new_size[1])//2))\n",
    "    new_im.save(images_dest + 'image_' + str(idx) + '.png')"
   ]
  },
  {
   "cell_type": "markdown",
   "id": "56bd7c17",
   "metadata": {},
   "source": [
    "## Create bbox images"
   ]
  },
  {
   "cell_type": "code",
   "execution_count": 11,
   "id": "633143eb",
   "metadata": {},
   "outputs": [],
   "source": [
    "path = os.getcwd()\n",
    "images_source = os.path.join(path,'dataset_total/images/')\n",
    "images_dest = os.path.join(path,'dataset_total/bbox_images/')"
   ]
  },
  {
   "cell_type": "code",
   "execution_count": 14,
   "id": "81e7d000",
   "metadata": {},
   "outputs": [],
   "source": [
    "images = os.listdir('dataset_total/images')\n",
    "annotations = os.listdir('dataset_total/annotations')\n",
    "\n",
    "for idx, image in enumerate(images[:1]):\n",
    "    im = Image.open(images_source + image)\n",
    "    xml_filename = image[:-4] + '.xml'\n",
    "    xml_filename_path = ('dataset_total/annotations/' + xml_filename)\n",
    "    tree = ET.parse(xml_filename_path)\n",
    "    root = tree.getroot()\n",
    "    \n",
    "    bboxes = []\n",
    "    for _idx, _object in enumerate(root.iter('object')):\n",
    "        \n",
    "        for bbox in _object.iter('bndbox'):\n",
    "            x1 = float(bbox[0].text)\n",
    "            y1 = float(bbox[1].text)\n",
    "            x2 = float(bbox[2].text)\n",
    "            y2 = float(bbox[3].text)\n",
    "            \n",
    "            bbox = (x1, y1, x2, y2)\n",
    "            cropped_im = im.crop(bbox)\n",
    "            cropped_im.save(images_dest + 'image_' + str(idx) + '_' + str(_idx) + '.png')"
   ]
  },
  {
   "cell_type": "code",
   "execution_count": 25,
   "id": "cb8f26d6",
   "metadata": {},
   "outputs": [
    {
     "name": "stdout",
     "output_type": "stream",
     "text": [
      "['blue_0.png', 'blue_1.png', 'blue_10.png', 'blue_100.png', 'blue_101.png', 'blue_102.png', 'blue_103.png', 'blue_104.png', 'blue_105.png', 'blue_106.png', 'blue_107.png', 'blue_108.png', 'blue_109.png', 'blue_11.png', 'blue_110.png', 'blue_111.png', 'blue_112.png', 'blue_113.png', 'blue_114.png', 'blue_115.png', 'blue_116.png', 'blue_117.png', 'blue_118.png', 'blue_119.png', 'blue_12.png', 'blue_120.png', 'blue_121.png', 'blue_122.png', 'blue_123.png', 'blue_124.png', 'blue_125.png', 'blue_126.png', 'blue_127.png', 'blue_128.png', 'blue_129.png', 'blue_13.png', 'blue_130.png', 'blue_131.png', 'blue_132.png', 'blue_133.png', 'blue_134.png', 'blue_135.png', 'blue_136.png', 'blue_137.png', 'blue_138.png', 'blue_139.png', 'blue_14.png', 'blue_140.png', 'blue_141.png', 'blue_142.png', 'blue_143.png', 'blue_144.png', 'blue_145.png', 'blue_146.png', 'blue_147.png', 'blue_148.png', 'blue_149.png', 'blue_15.png', 'blue_150.png', 'blue_151.png', 'blue_152.png', 'blue_153.png', 'blue_154.png', 'blue_155.png', 'blue_156.png', 'blue_157.png', 'blue_158.png', 'blue_159.png', 'blue_16.png', 'blue_160.png', 'blue_161.png', 'blue_162.png', 'blue_163.png', 'blue_164.png', 'blue_165.png', 'blue_166.png', 'blue_167.png', 'blue_168.png', 'blue_169.png', 'blue_17.png', 'blue_170.png', 'blue_171.png', 'blue_172.png', 'blue_173.png', 'blue_174.png', 'blue_175.png', 'blue_176.png', 'blue_177.png', 'blue_178.png', 'blue_179.png', 'blue_18.png', 'blue_180.png', 'blue_181.png', 'blue_182.png', 'blue_183.png', 'blue_184.png', 'blue_185.png', 'blue_186.png', 'blue_187.png', 'blue_188.png', 'blue_189.png', 'blue_19.png', 'blue_190.png', 'blue_191.png', 'blue_192.png', 'blue_193.png', 'blue_194.png', 'blue_195.png', 'blue_196.png', 'blue_197.png', 'blue_198.png', 'blue_199.png', 'blue_2.png', 'blue_20.png', 'blue_200.png', 'blue_201.png', 'blue_202.png', 'blue_203.png', 'blue_204.png', 'blue_205.png', 'blue_206.png', 'blue_207.png', 'blue_208.png', 'blue_209.png', 'blue_21.png', 'blue_210.png', 'blue_211.png', 'blue_212.png', 'blue_22.png', 'blue_23.png', 'blue_24.png', 'blue_25.png', 'blue_26.png', 'blue_27.png', 'blue_28.png', 'blue_29.png', 'blue_3.png', 'blue_30.png', 'blue_31.png', 'blue_32.png', 'blue_33.png', 'blue_34.png', 'blue_35.png', 'blue_36.png', 'blue_37.png', 'blue_38.png', 'blue_39.png', 'blue_4.png', 'blue_40.png', 'blue_41.png', 'blue_42.png', 'blue_43.png', 'blue_44.png', 'blue_45.png', 'blue_46.png', 'blue_47.png', 'blue_48.png', 'blue_49.png', 'blue_5.png', 'blue_50.png', 'blue_51.png', 'blue_52.png', 'blue_53.png', 'blue_54.png', 'blue_55.png', 'blue_56.png', 'blue_57.png', 'blue_58.png', 'blue_59.png', 'blue_6.png', 'blue_60.png', 'blue_61.png', 'blue_62.png', 'blue_63.png', 'blue_64.png', 'blue_65.png', 'blue_66.png', 'blue_67.png', 'blue_68.png', 'blue_69.png', 'blue_7.png', 'blue_70.png', 'blue_71.png', 'blue_72.png', 'blue_73.png', 'blue_74.png', 'blue_75.png', 'blue_76.png', 'blue_77.png', 'blue_78.png', 'blue_79.png', 'blue_8.png', 'blue_80.png', 'blue_81.png', 'blue_82.png', 'blue_83.png', 'blue_84.png', 'blue_85.png', 'blue_86.png', 'blue_87.png', 'blue_88.png', 'blue_89.png', 'blue_9.png', 'blue_90.png', 'blue_91.png', 'blue_92.png', 'blue_93.png', 'blue_94.png', 'blue_95.png', 'blue_96.png', 'blue_97.png', 'blue_98.png', 'blue_99.png', 'grey_0.png', 'grey_1.png', 'grey_10.png', 'grey_100.png', 'grey_101.png', 'grey_102.png', 'grey_103.png', 'grey_104.png', 'grey_105.png', 'grey_106.png', 'grey_107.png', 'grey_108.png', 'grey_109.png', 'grey_11.png', 'grey_110.png', 'grey_111.png', 'grey_112.png', 'grey_113.png', 'grey_114.png', 'grey_115.png', 'grey_116.png', 'grey_117.png', 'grey_118.png', 'grey_119.png', 'grey_12.png', 'grey_120.png', 'grey_121.png', 'grey_122.png', 'grey_123.png', 'grey_124.png', 'grey_125.png', 'grey_126.png', 'grey_127.png', 'grey_128.png', 'grey_129.png', 'grey_13.png', 'grey_130.png', 'grey_131.png', 'grey_132.png', 'grey_133.png', 'grey_134.png', 'grey_135.png', 'grey_136.png', 'grey_137.png', 'grey_138.png', 'grey_139.png', 'grey_14.png', 'grey_140.png', 'grey_141.png', 'grey_142.png', 'grey_143.png', 'grey_144.png', 'grey_145.png', 'grey_146.png', 'grey_147.png', 'grey_148.png', 'grey_149.png', 'grey_15.png', 'grey_150.png', 'grey_151.png', 'grey_152.png', 'grey_153.png', 'grey_154.png', 'grey_155.png', 'grey_156.png', 'grey_157.png', 'grey_158.png', 'grey_159.png', 'grey_16.png', 'grey_160.png', 'grey_161.png', 'grey_162.png', 'grey_163.png', 'grey_164.png', 'grey_165.png', 'grey_166.png', 'grey_167.png', 'grey_168.png', 'grey_169.png', 'grey_17.png', 'grey_170.png', 'grey_171.png', 'grey_172.png', 'grey_173.png', 'grey_174.png', 'grey_175.png', 'grey_176.png', 'grey_177.png', 'grey_178.png', 'grey_179.png', 'grey_18.png', 'grey_180.png', 'grey_181.png', 'grey_182.png', 'grey_183.png', 'grey_184.png', 'grey_185.png', 'grey_186.png', 'grey_187.png', 'grey_188.png', 'grey_189.png', 'grey_19.png', 'grey_190.png', 'grey_191.png', 'grey_192.png', 'grey_193.png', 'grey_194.png', 'grey_195.png', 'grey_196.png', 'grey_197.png', 'grey_198.png', 'grey_199.png', 'grey_2.png', 'grey_20.png', 'grey_200.png', 'grey_201.png', 'grey_21.png', 'grey_22.png', 'grey_23.png', 'grey_24.png', 'grey_25.png', 'grey_26.png', 'grey_27.png', 'grey_28.png', 'grey_29.png', 'grey_3.png', 'grey_30.png', 'grey_31.png', 'grey_32.png', 'grey_33.png', 'grey_34.png', 'grey_35.png', 'grey_36.png', 'grey_37.png', 'grey_38.png', 'grey_39.png', 'grey_4.png', 'grey_40.png', 'grey_41.png', 'grey_42.png', 'grey_43.png', 'grey_44.png', 'grey_45.png', 'grey_46.png', 'grey_47.png', 'grey_48.png', 'grey_49.png', 'grey_5.png', 'grey_50.png', 'grey_51.png', 'grey_52.png', 'grey_53.png', 'grey_54.png', 'grey_55.png', 'grey_56.png', 'grey_57.png', 'grey_58.png', 'grey_59.png', 'grey_6.png', 'grey_60.png', 'grey_61.png', 'grey_62.png', 'grey_63.png', 'grey_64.png', 'grey_65.png', 'grey_66.png', 'grey_67.png', 'grey_68.png', 'grey_69.png', 'grey_7.png', 'grey_70.png', 'grey_71.png', 'grey_72.png', 'grey_73.png', 'grey_74.png', 'grey_75.png', 'grey_76.png', 'grey_77.png', 'grey_78.png', 'grey_79.png', 'grey_8.png', 'grey_80.png', 'grey_81.png', 'grey_82.png', 'grey_83.png', 'grey_84.png', 'grey_85.png', 'grey_86.png', 'grey_87.png', 'grey_88.png', 'grey_89.png', 'grey_9.png', 'grey_90.png', 'grey_91.png', 'grey_92.png', 'grey_93.png', 'grey_94.png', 'grey_95.png', 'grey_96.png', 'grey_97.png', 'grey_98.png', 'grey_99.png', 'Tomaat_L_1.png', 'Tomaat_L_10.png', 'Tomaat_L_11.png', 'Tomaat_L_12.png', 'Tomaat_L_13.png', 'Tomaat_L_14.png', 'Tomaat_L_15.png', 'Tomaat_L_16.png', 'Tomaat_L_17.png', 'Tomaat_L_18.png', 'Tomaat_L_2.png', 'Tomaat_L_3.png', 'Tomaat_L_4.png', 'Tomaat_L_5.png', 'Tomaat_L_6.png', 'Tomaat_L_7.png', 'Tomaat_L_8.png', 'Tomaat_L_9.png', 'Tomat_far_L_1.png', 'Tomat_far_L_10.png', 'Tomat_far_L_4.png', 'Tomat_far_L_7.png', 'Tomat_L_11.png', 'Tomat_L_2.png', 'Tomat_L_5.png', 'Tomat_L_8.png', 'Tomat_R_3.png', 'Tomat_R_5.png', 'Tomat_R_6.png', 'Tomat_R_9.png', 'Top_L_1.png', 'Top_L_10.png', 'Top_L_11.png', 'Top_L_12.png', 'Top_L_13.png', 'Top_L_14.png', 'Top_L_15.png', 'Top_L_16.png', 'Top_L_17.png', 'Top_L_18.png', 'Top_L_19.png', 'Top_L_2.png', 'Top_L_20.png', 'Top_L_3.png', 'Top_L_4.png', 'Top_L_5.png', 'Top_L_6.png', 'Top_L_7.png', 'Top_L_8.png', 'Top_L_9.png']\n"
     ]
    }
   ],
   "source": [
    "print(images)"
   ]
  }
 ],
 "metadata": {
  "kernelspec": {
   "display_name": "Python 3 (ipykernel)",
   "language": "python",
   "name": "python3"
  },
  "language_info": {
   "codemirror_mode": {
    "name": "ipython",
    "version": 3
   },
   "file_extension": ".py",
   "mimetype": "text/x-python",
   "name": "python",
   "nbconvert_exporter": "python",
   "pygments_lexer": "ipython3",
   "version": "3.9.12"
  }
 },
 "nbformat": 4,
 "nbformat_minor": 5
}
